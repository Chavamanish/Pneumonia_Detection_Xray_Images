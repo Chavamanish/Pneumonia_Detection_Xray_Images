{
  "nbformat": 4,
  "nbformat_minor": 0,
  "metadata": {
    "colab": {
      "name": "XRAY_KERAS_TUNER.ipynb",
      "provenance": [],
      "collapsed_sections": [],
      "mount_file_id": "1wIqN23Ti2uzb-tOIqF8EQ7WWYUUPhblK",
      "authorship_tag": "ABX9TyPrnqK3cn79Xyb+Dwh0H36b",
      "include_colab_link": true
    },
    "kernelspec": {
      "name": "python3",
      "display_name": "Python 3"
    },
    "language_info": {
      "name": "python"
    },
    "accelerator": "GPU"
  },
  "cells": [
    {
      "cell_type": "markdown",
      "metadata": {
        "id": "view-in-github",
        "colab_type": "text"
      },
      "source": [
        "<a href=\"https://colab.research.google.com/github/Chavamanish/pneumonia_xray_detection_transferLearning/blob/main/XRAY_KERAS_TUNER.ipynb\" target=\"_parent\"><img src=\"https://colab.research.google.com/assets/colab-badge.svg\" alt=\"Open In Colab\"/></a>"
      ]
    },
    {
      "cell_type": "code",
      "execution_count": null,
      "metadata": {
        "id": "SWPhndi_UkDZ"
      },
      "outputs": [],
      "source": [
        "import tensorflow as tf\n",
        "from keras.preprocessing.image import ImageDataGenerator"
      ]
    },
    {
      "cell_type": "code",
      "source": [
        "train_data_gen = ImageDataGenerator(rescale= 1./255, shear_range=0.2, zoom_range=0.2, horizontal_flip=True)\n",
        "train_data = train_data_gen.flow_from_directory('/content/drive/MyDrive/chest_xray/train', target_size=(64,64), batch_size=32, class_mode='binary')"
      ],
      "metadata": {
        "colab": {
          "base_uri": "https://localhost:8080/"
        },
        "id": "LnZOagywvm6x",
        "outputId": "1b36d1c3-287f-4f38-8cc5-192c9877e658"
      },
      "execution_count": null,
      "outputs": [
        {
          "output_type": "stream",
          "name": "stdout",
          "text": [
            "Found 5216 images belonging to 2 classes.\n"
          ]
        }
      ]
    },
    {
      "cell_type": "code",
      "source": [
        "test_data_gen = ImageDataGenerator(rescale=1./255, shear_range=0.2, zoom_range=0.2, horizontal_flip=True)\n",
        "test_data = test_data_gen.flow_from_directory('/content/drive/MyDrive/chest_xray/test', target_size=(64,64), batch_size=32, class_mode='binary')"
      ],
      "metadata": {
        "colab": {
          "base_uri": "https://localhost:8080/"
        },
        "id": "scyGmIJtwr2y",
        "outputId": "c29af67a-9d64-440e-9acf-5677d59c6788"
      },
      "execution_count": null,
      "outputs": [
        {
          "output_type": "stream",
          "name": "stdout",
          "text": [
            "Found 624 images belonging to 2 classes.\n"
          ]
        }
      ]
    },
    {
      "cell_type": "code",
      "source": [
        "validation_data_gen = ImageDataGenerator(rescale=1./255, shear_range=0.2, zoom_range=0.2, horizontal_flip=True)\n",
        "validation_data = validation_data_gen.flow_from_directory('/content/drive/MyDrive/chest_xray/val', target_size=(64,64), batch_size=4, class_mode='binary')"
      ],
      "metadata": {
        "colab": {
          "base_uri": "https://localhost:8080/"
        },
        "id": "4y4oGDPj2MXj",
        "outputId": "ecb7f92c-39df-4e93-acd3-bf680a8a19e2"
      },
      "execution_count": null,
      "outputs": [
        {
          "output_type": "stream",
          "name": "stdout",
          "text": [
            "Found 16 images belonging to 2 classes.\n"
          ]
        }
      ]
    },
    {
      "cell_type": "code",
      "source": [
        "!pip install keras-tuner -q"
      ],
      "metadata": {
        "colab": {
          "base_uri": "https://localhost:8080/"
        },
        "id": "9W4Sdz4MxZud",
        "outputId": "8e15e74d-f71b-4f54-8a60-18900340b77e"
      },
      "execution_count": null,
      "outputs": [
        {
          "output_type": "stream",
          "name": "stdout",
          "text": [
            "\u001b[?25l\r\u001b[K     |██▌                             | 10 kB 28.3 MB/s eta 0:00:01\r\u001b[K     |█████                           | 20 kB 32.3 MB/s eta 0:00:01\r\u001b[K     |███████▍                        | 30 kB 12.2 MB/s eta 0:00:01\r\u001b[K     |█████████▉                      | 40 kB 9.3 MB/s eta 0:00:01\r\u001b[K     |████████████▎                   | 51 kB 4.6 MB/s eta 0:00:01\r\u001b[K     |██████████████▊                 | 61 kB 5.4 MB/s eta 0:00:01\r\u001b[K     |█████████████████▏              | 71 kB 5.5 MB/s eta 0:00:01\r\u001b[K     |███████████████████▋            | 81 kB 5.5 MB/s eta 0:00:01\r\u001b[K     |██████████████████████          | 92 kB 6.1 MB/s eta 0:00:01\r\u001b[K     |████████████████████████▌       | 102 kB 5.2 MB/s eta 0:00:01\r\u001b[K     |███████████████████████████     | 112 kB 5.2 MB/s eta 0:00:01\r\u001b[K     |█████████████████████████████▍  | 122 kB 5.2 MB/s eta 0:00:01\r\u001b[K     |███████████████████████████████▉| 133 kB 5.2 MB/s eta 0:00:01\r\u001b[K     |████████████████████████████████| 133 kB 5.2 MB/s \n",
            "\u001b[?25h"
          ]
        }
      ]
    },
    {
      "cell_type": "code",
      "source": [
        "def build_model(hp):\n",
        "    model = tf.keras.Sequential()\n",
        "\n",
        "    model.add(\n",
        "        tf.keras.layers.Conv2D(\n",
        "            # Define the hyperparameter.\n",
        "            filters=hp.Int(\"filters\", min_value=32, max_value=512, step=32),\n",
        "            kernel_size=hp.Int(\"kernel_size\",min_value=3, max_value=11, step=2),\n",
        "            activation=\"relu\",\n",
        "            padding=\"same\",\n",
        "            input_shape=[64,64,3]\n",
        "            ))\n",
        "    model.add(tf.keras.layers.MaxPool2D(pool_size=3, padding=\"same\", strides=2))\n",
        "\n",
        "    model.add(\n",
        "        tf.keras.layers.Conv2D(\n",
        "            # Define the hyperparameter.\n",
        "            filters=hp.Int(\"filters\", min_value=32, max_value=512, step=32),\n",
        "            kernel_size=hp.Int(\"kernel_size\",min_value=3, max_value=11, step=2),\n",
        "            padding=\"same\",\n",
        "            activation=\"relu\"\n",
        "            ))\n",
        "    model.add(tf.keras.layers.MaxPool2D(pool_size=3, padding=\"same\", strides=2))\n",
        "\n",
        "    model.add(\n",
        "        tf.keras.layers.Conv2D(\n",
        "            # Define the hyperparameter.\n",
        "            filters=hp.Int(\"filters\", min_value=32, max_value=512, step=32),\n",
        "            kernel_size=hp.Int(\"kernel_size\",min_value=3, max_value=11, step=2),\n",
        "            padding=\"same\",\n",
        "            activation=\"relu\"\n",
        "            ))\n",
        "    model.add(tf.keras.layers.MaxPool2D(pool_size=3, padding=\"same\", strides=2))\n",
        "    \n",
        "    model.add(tf.keras.layers.Flatten())\n",
        "    for i in range(hp.Int(\"FCLAYER\",2,10)):\n",
        "      model.add(tf.keras.layers.Dense(units=hp.Int(f'Layer{i}',min_value=32,max_value=512,step=32),activation=hp.Choice(f'Layer{i} activation',['relu','tanh'])))\n",
        "    model.add(tf.keras.layers.Dense(1, activation='sigmoid'))\n",
        "    model.compile(\n",
        "        optimizer=\"adam\", loss=\"binary_crossentropy\", metrics=[\"accuracy\"],\n",
        "    )\n",
        "    return model\n"
      ],
      "metadata": {
        "id": "hOGhKuXUxtGV"
      },
      "execution_count": null,
      "outputs": []
    },
    {
      "cell_type": "code",
      "source": [
        " from keras_tuner import RandomSearch\n",
        " from keras_tuner.engine.hyperparameters import HyperParameters"
      ],
      "metadata": {
        "id": "_ygXVnD9xFWB"
      },
      "execution_count": null,
      "outputs": []
    },
    {
      "cell_type": "code",
      "source": [
        "tuner_search=RandomSearch(hypermodel=build_model,objective=\"val_accuracy\",max_trials=3,directory=\"my_dir\",project_name=\"XRAYCLF\")\n"
      ],
      "metadata": {
        "id": "bri9qJdg03Uk"
      },
      "execution_count": null,
      "outputs": []
    },
    {
      "cell_type": "code",
      "source": [
        "tuner_search.search(train_data,epochs=4,validation_data=validation_data)"
      ],
      "metadata": {
        "colab": {
          "base_uri": "https://localhost:8080/"
        },
        "id": "0cKs2naW1ZTN",
        "outputId": "e07909d1-70df-4fc0-82d1-c24de0994127"
      },
      "execution_count": null,
      "outputs": [
        {
          "output_type": "stream",
          "name": "stdout",
          "text": [
            "Trial 3 Complete [00h 05m 24s]\n",
            "val_accuracy: 0.5\n",
            "\n",
            "Best val_accuracy So Far: 0.8125\n",
            "Total elapsed time: 00h 20m 46s\n",
            "INFO:tensorflow:Oracle triggered exit\n"
          ]
        }
      ]
    },
    {
      "cell_type": "code",
      "source": [
        "model=tuner_search.get_best_models(num_models=1)[0]"
      ],
      "metadata": {
        "id": "CNCc4Aj78iXQ"
      },
      "execution_count": null,
      "outputs": []
    },
    {
      "cell_type": "code",
      "source": [
        "model.summary()"
      ],
      "metadata": {
        "colab": {
          "base_uri": "https://localhost:8080/"
        },
        "id": "Bbq9gkji9Q97",
        "outputId": "8503e441-e857-4dfb-8a5b-f147c5c4216c"
      },
      "execution_count": null,
      "outputs": [
        {
          "output_type": "stream",
          "name": "stdout",
          "text": [
            "Model: \"sequential\"\n",
            "_________________________________________________________________\n",
            " Layer (type)                Output Shape              Param #   \n",
            "=================================================================\n",
            " conv2d (Conv2D)             (None, 64, 64, 64)        9472      \n",
            "                                                                 \n",
            " max_pooling2d (MaxPooling2D  (None, 32, 32, 64)       0         \n",
            " )                                                               \n",
            "                                                                 \n",
            " conv2d_1 (Conv2D)           (None, 32, 32, 64)        200768    \n",
            "                                                                 \n",
            " max_pooling2d_1 (MaxPooling  (None, 16, 16, 64)       0         \n",
            " 2D)                                                             \n",
            "                                                                 \n",
            " conv2d_2 (Conv2D)           (None, 16, 16, 64)        200768    \n",
            "                                                                 \n",
            " max_pooling2d_2 (MaxPooling  (None, 8, 8, 64)         0         \n",
            " 2D)                                                             \n",
            "                                                                 \n",
            " flatten (Flatten)           (None, 4096)              0         \n",
            "                                                                 \n",
            " dense (Dense)               (None, 64)                262208    \n",
            "                                                                 \n",
            " dense_1 (Dense)             (None, 288)               18720     \n",
            "                                                                 \n",
            " dense_2 (Dense)             (None, 32)                9248      \n",
            "                                                                 \n",
            " dense_3 (Dense)             (None, 32)                1056      \n",
            "                                                                 \n",
            " dense_4 (Dense)             (None, 32)                1056      \n",
            "                                                                 \n",
            " dense_5 (Dense)             (None, 32)                1056      \n",
            "                                                                 \n",
            " dense_6 (Dense)             (None, 1)                 33        \n",
            "                                                                 \n",
            "=================================================================\n",
            "Total params: 704,385\n",
            "Trainable params: 704,385\n",
            "Non-trainable params: 0\n",
            "_________________________________________________________________\n"
          ]
        }
      ]
    },
    {
      "cell_type": "code",
      "source": [
        "model.fit(train_data,epochs=10,validation_data=validation_data,initial_epoch=2)"
      ],
      "metadata": {
        "colab": {
          "base_uri": "https://localhost:8080/"
        },
        "id": "bXx260mb_gz4",
        "outputId": "d31d8800-4b5b-4e8d-aed9-c5a977ff4fae"
      },
      "execution_count": null,
      "outputs": [
        {
          "output_type": "stream",
          "name": "stdout",
          "text": [
            "Epoch 3/10\n",
            "163/163 [==============================] - 75s 454ms/step - loss: 0.2937 - accuracy: 0.8790 - val_loss: 0.7907 - val_accuracy: 0.6250\n",
            "Epoch 4/10\n",
            "163/163 [==============================] - 73s 450ms/step - loss: 0.2295 - accuracy: 0.9059 - val_loss: 0.4453 - val_accuracy: 0.7500\n",
            "Epoch 5/10\n",
            "163/163 [==============================] - 74s 451ms/step - loss: 0.2053 - accuracy: 0.9185 - val_loss: 0.9702 - val_accuracy: 0.5625\n",
            "Epoch 6/10\n",
            "163/163 [==============================] - 73s 448ms/step - loss: 0.1820 - accuracy: 0.9285 - val_loss: 0.6271 - val_accuracy: 0.6250\n",
            "Epoch 7/10\n",
            "163/163 [==============================] - 73s 448ms/step - loss: 0.1630 - accuracy: 0.9350 - val_loss: 0.3746 - val_accuracy: 0.8125\n",
            "Epoch 8/10\n",
            "163/163 [==============================] - 73s 448ms/step - loss: 0.1734 - accuracy: 0.9339 - val_loss: 0.4172 - val_accuracy: 0.6875\n",
            "Epoch 9/10\n",
            "163/163 [==============================] - 73s 448ms/step - loss: 0.1607 - accuracy: 0.9367 - val_loss: 0.5330 - val_accuracy: 0.6875\n",
            "Epoch 10/10\n",
            "163/163 [==============================] - 73s 450ms/step - loss: 0.1509 - accuracy: 0.9400 - val_loss: 0.9464 - val_accuracy: 0.5625\n"
          ]
        },
        {
          "output_type": "execute_result",
          "data": {
            "text/plain": [
              "<keras.callbacks.History at 0x7f96622dca90>"
            ]
          },
          "metadata": {},
          "execution_count": 12
        }
      ]
    }
  ]
}